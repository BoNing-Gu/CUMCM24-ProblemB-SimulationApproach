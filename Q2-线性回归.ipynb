{
 "cells": [
  {
   "cell_type": "code",
   "execution_count": null,
   "id": "a0ede23c",
   "metadata": {},
   "outputs": [],
   "source": [
    "import pandas as pd\n",
    "import sklearn as sk\n",
    "data = pd.read_excel('./data/Q2/Q2_output_noshowfliers.xlsx')\n",
    "print(data.info())\n",
    "halfpivot = pd.read_excel('./data/Q2/Q2_pivot_table.xlsx')\n",
    "print(halfpivot.info())\n",
    "halfpivot = pd.concat([halfpivot, data], axis=1)\n",
    "halfpivot.to_excel('./data/Q2/Q2_output_halfpivot.xlsx')"
   ]
  },
  {
   "cell_type": "code",
   "execution_count": null,
   "id": "initial_id",
   "metadata": {
    "ExecuteTime": {
     "end_time": "2024-09-08T09:00:49.601911Z",
     "start_time": "2024-09-08T09:00:48.961343Z"
    },
    "collapsed": true
   },
   "outputs": [
    {
     "name": "stdout",
     "output_type": "stream",
     "text": [
      "<class 'pandas.core.frame.DataFrame'>\n",
      "RangeIndex: 16 entries, 0 to 15\n",
      "Data columns (total 10 columns):\n",
      " #   Column  Non-Null Count  Dtype  \n",
      "---  ------  --------------  -----  \n",
      " 0   $x_1$   16 non-null     bool   \n",
      " 1   $x_2$   16 non-null     bool   \n",
      " 2   $x_p$   16 non-null     bool   \n",
      " 3   $x_d$   16 non-null     bool   \n",
      " 4   case1   16 non-null     float64\n",
      " 5   case2   16 non-null     float64\n",
      " 6   case3   16 non-null     float64\n",
      " 7   case4   16 non-null     float64\n",
      " 8   case5   16 non-null     float64\n",
      " 9   case6   16 non-null     float64\n",
      "dtypes: bool(4), float64(6)\n",
      "memory usage: 964.0 bytes\n",
      "<class 'pandas.core.frame.DataFrame'>\n",
      "RangeIndex: 6 entries, 0 to 5\n",
      "Data columns (total 13 columns):\n",
      " #   Column              Non-Null Count  Dtype  \n",
      "---  ------              --------------  -----  \n",
      " 0   case                6 non-null      int64  \n",
      " 1   c1_defect_rate      6 non-null      float64\n",
      " 2   c1_purchase_price   6 non-null      int64  \n",
      " 3   c1_inspection_cost  6 non-null      int64  \n",
      " 4   c2_defect_rate      6 non-null      float64\n",
      " 5   c2_purchase_price   6 non-null      int64  \n",
      " 6   c2_inspection_cost  6 non-null      int64  \n",
      " 7   p_defect_rate       6 non-null      float64\n",
      " 8   p_assembly_cost     6 non-null      int64  \n",
      " 9   p_inspection_cost   6 non-null      int64  \n",
      " 10  p_market_price      6 non-null      int64  \n",
      " 11  p_replacement_loss  6 non-null      int64  \n",
      " 12  p_disassembly_cost  6 non-null      int64  \n",
      "dtypes: float64(3), int64(10)\n",
      "memory usage: 756.0 bytes\n",
      "['$x_1$', '$x_2$', '$x_p$', '$x_d$', 'c1_defect_rate', 'c1_purchase_price', 'c1_inspection_cost', 'c2_defect_rate', 'c2_purchase_price', 'c2_inspection_cost', 'p_defect_rate', 'p_assembly_cost', 'p_inspection_cost', 'p_market_price', 'p_replacement_loss', 'p_disassembly_cost', 'Revenue']\n"
     ]
    }
   ],
   "source": [
    "data = pd.read_excel('./data/Q2/Q2_output_halfpivot.xlsx')\n",
    "data.info()\n",
    "decision_colname = ['$x_1$', '$x_2$', '$x_p$', '$x_d$']\n",
    "case = pd.read_excel('./data/Q2/Q2.xlsx')\n",
    "case.info()\n",
    "case_colname = case.columns.tolist()\n",
    "case_colname.pop(0)  # 去除第一个元素\n",
    "colname = decision_colname + case_colname + ['Revenue']\n",
    "print(colname)"
   ]
  },
  {
   "cell_type": "code",
   "execution_count": 7,
   "id": "39f7d08ab4f5ac19",
   "metadata": {
    "ExecuteTime": {
     "end_time": "2024-09-08T09:00:49.681408Z",
     "start_time": "2024-09-08T09:00:49.605379Z"
    }
   },
   "outputs": [
    {
     "name": "stdout",
     "output_type": "stream",
     "text": [
      "[True, True, True, True, 0.1, 4.0, 2.0, 0.1, 18.0, 3.0, 0.1, 6.0, 3.0, 56.0, 6.0, 5.0, 14.94546]\n",
      "[True, True, True, True, 0.2, 4.0, 2.0, 0.2, 18.0, 3.0, 0.2, 6.0, 3.0, 56.0, 6.0, 5.0, 8.54523]\n",
      "[True, True, True, True, 0.1, 4.0, 2.0, 0.1, 18.0, 3.0, 0.1, 6.0, 3.0, 56.0, 30.0, 5.0, 14.91154]\n",
      "[True, True, True, True, 0.2, 4.0, 1.0, 0.2, 18.0, 1.0, 0.2, 6.0, 2.0, 56.0, 30.0, 5.0, 14.23805]\n",
      "[True, True, True, True, 0.1, 4.0, 8.0, 0.2, 18.0, 1.0, 0.1, 6.0, 2.0, 56.0, 10.0, 5.0, 8.4323]\n",
      "[True, True, True, True, 0.05, 4.0, 2.0, 0.05, 18.0, 3.0, 0.05, 6.0, 3.0, 56.0, 10.0, 40.0, 15.77693]\n",
      "[True, True, True, False, 0.1, 4.0, 2.0, 0.1, 18.0, 3.0, 0.1, 6.0, 3.0, 56.0, 6.0, 5.0, 11.36523]\n",
      "[True, True, True, False, 0.2, 4.0, 2.0, 0.2, 18.0, 3.0, 0.2, 6.0, 3.0, 56.0, 6.0, 5.0, 1.99026]\n",
      "[True, True, True, False, 0.1, 4.0, 2.0, 0.1, 18.0, 3.0, 0.1, 6.0, 3.0, 56.0, 30.0, 5.0, 11.48619]\n",
      "[True, True, True, False, 0.2, 4.0, 1.0, 0.2, 18.0, 1.0, 0.2, 6.0, 2.0, 56.0, 30.0, 5.0, 6.85674]\n",
      "[True, True, True, False, 0.1, 4.0, 8.0, 0.2, 18.0, 1.0, 0.1, 6.0, 2.0, 56.0, 10.0, 5.0, 5.28921]\n",
      "[True, True, True, False, 0.05, 4.0, 2.0, 0.05, 18.0, 3.0, 0.05, 6.0, 3.0, 56.0, 10.0, 40.0, 15.69398]\n",
      "[True, True, False, True, 0.1, 4.0, 2.0, 0.1, 18.0, 3.0, 0.1, 6.0, 3.0, 56.0, 6.0, 5.0, 17.24534]\n",
      "[True, True, False, True, 0.2, 4.0, 2.0, 0.2, 18.0, 3.0, 0.2, 6.0, 3.0, 56.0, 6.0, 5.0, 10.28129]\n",
      "[True, True, False, True, 0.1, 4.0, 2.0, 0.1, 18.0, 3.0, 0.1, 6.0, 3.0, 56.0, 30.0, 5.0, 14.82322]\n",
      "[True, True, False, True, 0.2, 4.0, 1.0, 0.2, 18.0, 1.0, 0.2, 6.0, 2.0, 56.0, 30.0, 5.0, 10.3104]\n",
      "[True, True, False, True, 0.1, 4.0, 8.0, 0.2, 18.0, 1.0, 0.1, 6.0, 2.0, 56.0, 10.0, 5.0, 9.4766]\n",
      "[True, True, False, True, 0.05, 4.0, 2.0, 0.05, 18.0, 3.0, 0.05, 6.0, 3.0, 56.0, 10.0, 40.0, 18.24191]\n",
      "[True, True, False, False, 0.1, 4.0, 2.0, 0.1, 18.0, 3.0, 0.1, 6.0, 3.0, 56.0, 6.0, 5.0, 17.50092]\n",
      "[True, True, False, False, 0.2, 4.0, 2.0, 0.2, 18.0, 3.0, 0.2, 6.0, 3.0, 56.0, 6.0, 5.0, 11.2676]\n",
      "[True, True, False, False, 0.1, 4.0, 2.0, 0.1, 18.0, 3.0, 0.1, 6.0, 3.0, 56.0, 30.0, 5.0, 15.19883]\n",
      "[True, True, False, False, 0.2, 4.0, 1.0, 0.2, 18.0, 1.0, 0.2, 6.0, 2.0, 56.0, 30.0, 5.0, 10.9594]\n",
      "[True, True, False, False, 0.1, 4.0, 8.0, 0.2, 18.0, 1.0, 0.1, 6.0, 2.0, 56.0, 10.0, 5.0, 9.69227]\n",
      "[True, True, False, False, 0.05, 4.0, 2.0, 0.05, 18.0, 3.0, 0.05, 6.0, 3.0, 56.0, 10.0, 40.0, 18.46388]\n",
      "[True, False, True, True, 0.1, 4.0, 2.0, 0.1, 18.0, 3.0, 0.1, 6.0, 3.0, 56.0, 6.0, 5.0, 15.99331]\n",
      "[True, False, True, True, 0.2, 4.0, 2.0, 0.2, 18.0, 3.0, 0.2, 6.0, 3.0, 56.0, 6.0, 5.0, 7.87638]\n",
      "[True, False, True, True, 0.1, 4.0, 2.0, 0.1, 18.0, 3.0, 0.1, 6.0, 3.0, 56.0, 30.0, 5.0, 16.05049]\n",
      "[True, False, True, True, 0.2, 4.0, 1.0, 0.2, 18.0, 1.0, 0.2, 6.0, 2.0, 56.0, 30.0, 5.0, 12.24641]\n",
      "[True, False, True, True, 0.1, 4.0, 8.0, 0.2, 18.0, 1.0, 0.1, 6.0, 2.0, 56.0, 10.0, 5.0, 4.984]\n",
      "[True, False, True, True, 0.05, 4.0, 2.0, 0.05, 18.0, 3.0, 0.05, 6.0, 3.0, 56.0, 10.0, 40.0, 15.88118]\n",
      "[True, False, True, False, 0.1, 4.0, 2.0, 0.1, 18.0, 3.0, 0.1, 6.0, 3.0, 56.0, 6.0, 5.0, 11.6433]\n",
      "[True, False, True, False, 0.2, 4.0, 2.0, 0.2, 18.0, 3.0, 0.2, 6.0, 3.0, 56.0, 6.0, 5.0, 1.39784]\n",
      "[True, False, True, False, 0.1, 4.0, 2.0, 0.1, 18.0, 3.0, 0.1, 6.0, 3.0, 56.0, 30.0, 5.0, 11.67812]\n",
      "[True, False, True, False, 0.2, 4.0, 1.0, 0.2, 18.0, 1.0, 0.2, 6.0, 2.0, 56.0, 30.0, 5.0, 3.58625]\n",
      "[True, False, True, False, 0.1, 4.0, 8.0, 0.2, 18.0, 1.0, 0.1, 6.0, 2.0, 56.0, 10.0, 5.0, 1.007]\n",
      "[True, False, True, False, 0.05, 4.0, 2.0, 0.05, 18.0, 3.0, 0.05, 6.0, 3.0, 56.0, 10.0, 40.0, 17.30944]\n",
      "[True, False, False, True, 0.1, 4.0, 2.0, 0.1, 18.0, 3.0, 0.1, 6.0, 3.0, 56.0, 6.0, 5.0, 17.78447]\n",
      "[True, False, False, True, 0.2, 4.0, 2.0, 0.2, 18.0, 3.0, 0.2, 6.0, 3.0, 56.0, 6.0, 5.0, 8.48661]\n",
      "[True, False, False, True, 0.1, 4.0, 2.0, 0.1, 18.0, 3.0, 0.1, 6.0, 3.0, 56.0, 30.0, 5.0, 13.25904]\n",
      "[True, False, False, True, 0.2, 4.0, 1.0, 0.2, 18.0, 1.0, 0.2, 6.0, 2.0, 56.0, 30.0, 5.0, 3.45102]\n",
      "[True, False, False, True, 0.1, 4.0, 8.0, 0.2, 18.0, 1.0, 0.1, 6.0, 2.0, 56.0, 10.0, 5.0, 4.27979]\n",
      "[True, False, False, True, 0.05, 4.0, 2.0, 0.05, 18.0, 3.0, 0.05, 6.0, 3.0, 56.0, 10.0, 40.0, 18.0284]\n",
      "[True, False, False, False, 0.1, 4.0, 2.0, 0.1, 18.0, 3.0, 0.1, 6.0, 3.0, 56.0, 6.0, 5.0, 18.26486]\n",
      "[True, False, False, False, 0.2, 4.0, 2.0, 0.2, 18.0, 3.0, 0.2, 6.0, 3.0, 56.0, 6.0, 5.0, 10.31526]\n",
      "[True, False, False, False, 0.1, 4.0, 2.0, 0.1, 18.0, 3.0, 0.1, 6.0, 3.0, 56.0, 30.0, 5.0, 13.66921]\n",
      "[True, False, False, False, 0.2, 4.0, 1.0, 0.2, 18.0, 1.0, 0.2, 6.0, 2.0, 56.0, 30.0, 5.0, 4.7452]\n",
      "[True, False, False, False, 0.1, 4.0, 8.0, 0.2, 18.0, 1.0, 0.1, 6.0, 2.0, 56.0, 10.0, 5.0, 4.91892]\n",
      "[True, False, False, False, 0.05, 4.0, 2.0, 0.05, 18.0, 3.0, 0.05, 6.0, 3.0, 56.0, 10.0, 40.0, 18.39557]\n",
      "[False, True, True, True, 0.1, 4.0, 2.0, 0.1, 18.0, 3.0, 0.1, 6.0, 3.0, 56.0, 6.0, 5.0, 15.02483]\n",
      "[False, True, True, True, 0.2, 4.0, 2.0, 0.2, 18.0, 3.0, 0.2, 6.0, 3.0, 56.0, 6.0, 5.0, 6.75977]\n",
      "[False, True, True, True, 0.1, 4.0, 2.0, 0.1, 18.0, 3.0, 0.1, 6.0, 3.0, 56.0, 30.0, 5.0, 14.97908]\n",
      "[False, True, True, True, 0.2, 4.0, 1.0, 0.2, 18.0, 1.0, 0.2, 6.0, 2.0, 56.0, 30.0, 5.0, 12.21177]\n",
      "[False, True, True, True, 0.1, 4.0, 8.0, 0.2, 18.0, 1.0, 0.1, 6.0, 2.0, 56.0, 10.0, 5.0, 14.26051]\n",
      "[False, True, True, True, 0.05, 4.0, 2.0, 0.05, 18.0, 3.0, 0.05, 6.0, 3.0, 56.0, 10.0, 40.0, 15.14293]\n",
      "[False, True, True, False, 0.1, 4.0, 2.0, 0.1, 18.0, 3.0, 0.1, 6.0, 3.0, 56.0, 6.0, 5.0, 9.06806]\n",
      "[False, True, True, False, 0.2, 4.0, 2.0, 0.2, 18.0, 3.0, 0.2, 6.0, 3.0, 56.0, 6.0, 5.0, -3.39327]\n",
      "[False, True, True, False, 0.1, 4.0, 2.0, 0.1, 18.0, 3.0, 0.1, 6.0, 3.0, 56.0, 30.0, 5.0, 9.0276]\n",
      "[False, True, True, False, 0.2, 4.0, 1.0, 0.2, 18.0, 1.0, 0.2, 6.0, 2.0, 56.0, 30.0, 5.0, 0.23242]\n",
      "[False, True, True, False, 0.1, 4.0, 8.0, 0.2, 18.0, 1.0, 0.1, 6.0, 2.0, 56.0, 10.0, 5.0, 9.6915]\n",
      "[False, True, True, False, 0.05, 4.0, 2.0, 0.05, 18.0, 3.0, 0.05, 6.0, 3.0, 56.0, 10.0, 40.0, 15.41916]\n",
      "[False, True, False, True, 0.1, 4.0, 2.0, 0.1, 18.0, 3.0, 0.1, 6.0, 3.0, 56.0, 6.0, 5.0, 16.9356]\n",
      "[False, True, False, True, 0.2, 4.0, 2.0, 0.2, 18.0, 3.0, 0.2, 6.0, 3.0, 56.0, 6.0, 5.0, 7.54365]\n",
      "[False, True, False, True, 0.1, 4.0, 2.0, 0.1, 18.0, 3.0, 0.1, 6.0, 3.0, 56.0, 30.0, 5.0, 12.28764]\n",
      "[False, True, False, True, 0.2, 4.0, 1.0, 0.2, 18.0, 1.0, 0.2, 6.0, 2.0, 56.0, 30.0, 5.0, 3.45763]\n",
      "[False, True, False, True, 0.1, 4.0, 8.0, 0.2, 18.0, 1.0, 0.1, 6.0, 2.0, 56.0, 10.0, 5.0, 14.4008]\n",
      "[False, True, False, True, 0.05, 4.0, 2.0, 0.05, 18.0, 3.0, 0.05, 6.0, 3.0, 56.0, 10.0, 40.0, 16.99741]\n",
      "[False, True, False, False, 0.1, 4.0, 2.0, 0.1, 18.0, 3.0, 0.1, 6.0, 3.0, 56.0, 6.0, 5.0, 17.28906]\n",
      "[False, True, False, False, 0.2, 4.0, 2.0, 0.2, 18.0, 3.0, 0.2, 6.0, 3.0, 56.0, 6.0, 5.0, 9.27212]\n",
      "[False, True, False, False, 0.1, 4.0, 2.0, 0.1, 18.0, 3.0, 0.1, 6.0, 3.0, 56.0, 30.0, 5.0, 12.65375]\n",
      "[False, True, False, False, 0.2, 4.0, 1.0, 0.2, 18.0, 1.0, 0.2, 6.0, 2.0, 56.0, 30.0, 5.0, 4.78705]\n",
      "[False, True, False, False, 0.1, 4.0, 8.0, 0.2, 18.0, 1.0, 0.1, 6.0, 2.0, 56.0, 10.0, 5.0, 14.79571]\n",
      "[False, True, False, False, 0.05, 4.0, 2.0, 0.05, 18.0, 3.0, 0.05, 6.0, 3.0, 56.0, 10.0, 40.0, 17.22086]\n",
      "[False, False, True, True, 0.1, 4.0, 2.0, 0.1, 18.0, 3.0, 0.1, 6.0, 3.0, 56.0, 6.0, 5.0, 16.30235]\n",
      "[False, False, True, True, 0.2, 4.0, 2.0, 0.2, 18.0, 3.0, 0.2, 6.0, 3.0, 56.0, 6.0, 5.0, 6.56544]\n",
      "[False, False, True, True, 0.1, 4.0, 2.0, 0.1, 18.0, 3.0, 0.1, 6.0, 3.0, 56.0, 30.0, 5.0, 16.29623]\n",
      "[False, False, True, True, 0.2, 4.0, 1.0, 0.2, 18.0, 1.0, 0.2, 6.0, 2.0, 56.0, 30.0, 5.0, 10.97201]\n",
      "[False, False, True, True, 0.1, 4.0, 8.0, 0.2, 18.0, 1.0, 0.1, 6.0, 2.0, 56.0, 10.0, 5.0, 11.29514]\n",
      "[False, False, True, True, 0.05, 4.0, 2.0, 0.05, 18.0, 3.0, 0.05, 6.0, 3.0, 56.0, 10.0, 40.0, 15.37429]\n",
      "[False, False, True, False, 0.1, 4.0, 2.0, 0.1, 18.0, 3.0, 0.1, 6.0, 3.0, 56.0, 6.0, 5.0, 9.754]\n",
      "[False, False, True, False, 0.2, 4.0, 2.0, 0.2, 18.0, 3.0, 0.2, 6.0, 3.0, 56.0, 6.0, 5.0, -2.53072]\n",
      "[False, False, True, False, 0.1, 4.0, 2.0, 0.1, 18.0, 3.0, 0.1, 6.0, 3.0, 56.0, 30.0, 5.0, 9.92424]\n",
      "[False, False, True, False, 0.2, 4.0, 1.0, 0.2, 18.0, 1.0, 0.2, 6.0, 2.0, 56.0, 30.0, 5.0, -1.342]\n",
      "[False, False, True, False, 0.1, 4.0, 8.0, 0.2, 18.0, 1.0, 0.1, 6.0, 2.0, 56.0, 10.0, 5.0, 6.20512]\n",
      "[False, False, True, False, 0.05, 4.0, 2.0, 0.05, 18.0, 3.0, 0.05, 6.0, 3.0, 56.0, 10.0, 40.0, 16.96568]\n",
      "[False, False, False, True, 0.1, 4.0, 2.0, 0.1, 18.0, 3.0, 0.1, 6.0, 3.0, 56.0, 6.0, 5.0, 17.64948]\n",
      "[False, False, False, True, 0.2, 4.0, 2.0, 0.2, 18.0, 3.0, 0.2, 6.0, 3.0, 56.0, 6.0, 5.0, 6.71779]\n",
      "[False, False, False, True, 0.1, 4.0, 2.0, 0.1, 18.0, 3.0, 0.1, 6.0, 3.0, 56.0, 30.0, 5.0, 11.13937]\n",
      "[False, False, False, True, 0.2, 4.0, 1.0, 0.2, 18.0, 1.0, 0.2, 6.0, 2.0, 56.0, 30.0, 5.0, -1.65016]\n",
      "[False, False, False, True, 0.1, 4.0, 8.0, 0.2, 18.0, 1.0, 0.1, 6.0, 2.0, 56.0, 10.0, 5.0, 9.74622]\n",
      "[False, False, False, True, 0.05, 4.0, 2.0, 0.05, 18.0, 3.0, 0.05, 6.0, 3.0, 56.0, 10.0, 40.0, 17.04007]\n",
      "[False, False, False, False, 0.1, 4.0, 2.0, 0.1, 18.0, 3.0, 0.1, 6.0, 3.0, 56.0, 6.0, 5.0, 18.25855]\n",
      "[False, False, False, False, 0.2, 4.0, 2.0, 0.2, 18.0, 3.0, 0.2, 6.0, 3.0, 56.0, 6.0, 5.0, 9.09243]\n",
      "[False, False, False, False, 0.1, 4.0, 2.0, 0.1, 18.0, 3.0, 0.1, 6.0, 3.0, 56.0, 30.0, 5.0, 11.6503]\n",
      "[False, False, False, False, 0.2, 4.0, 1.0, 0.2, 18.0, 1.0, 0.2, 6.0, 2.0, 56.0, 30.0, 5.0, -0.08353]\n",
      "[False, False, False, False, 0.1, 4.0, 8.0, 0.2, 18.0, 1.0, 0.1, 6.0, 2.0, 56.0, 10.0, 5.0, 10.66985]\n",
      "[False, False, False, False, 0.05, 4.0, 2.0, 0.05, 18.0, 3.0, 0.05, 6.0, 3.0, 56.0, 10.0, 40.0, 17.47499]\n"
     ]
    }
   ],
   "source": [
    "df = []\n",
    "for i, row in data.iterrows():\n",
    "    for j in range(1, 7):\n",
    "        decision_row = row[['$x_1$', '$x_2$', '$x_p$', '$x_d$']].values.tolist()  # 决策变量列表\n",
    "        # print(decision_row)\n",
    "        col_name = f'case{j}'\n",
    "        case_row = case[case['case'] == j].values.tolist()[0]  # 属性值列表\n",
    "        # print(case_row)\n",
    "        case_row.pop(0)  # 去除case列\n",
    "        revenue = row[col_name]\n",
    "        ll = decision_row + case_row + [revenue]\n",
    "        print(ll)\n",
    "        df.append(ll)\n",
    "        \n",
    "df = pd.DataFrame(df, columns=colname)"
   ]
  },
  {
   "cell_type": "code",
   "execution_count": null,
   "id": "5ca8cd3495c0d22b",
   "metadata": {
    "ExecuteTime": {
     "end_time": "2024-09-08T09:00:49.840074Z",
     "start_time": "2024-09-08T09:00:49.684914Z"
    }
   },
   "outputs": [
    {
     "name": "stdout",
     "output_type": "stream",
     "text": [
      "(96, 17)\n",
      "(96, 14)\n"
     ]
    }
   ],
   "source": [
    "print(df.shape)\n",
    "df = df.loc[:, (df != df.iloc[0]).any()]\n",
    "df['$x_p x_d$'] = df['$x_p$'] * df['$x_d$']\n",
    "print(df.shape)\n",
    "df.to_excel('./data/Q2/Q2-线性解释性.xlsx')"
   ]
  },
  {
   "cell_type": "code",
   "execution_count": 9,
   "id": "ec3ba292032af2af",
   "metadata": {
    "ExecuteTime": {
     "end_time": "2024-09-08T09:00:49.953573Z",
     "start_time": "2024-09-08T09:00:49.841087Z"
    }
   },
   "outputs": [
    {
     "name": "stdout",
     "output_type": "stream",
     "text": [
      "线性模型的系数 (Coefficients): [  0.80608479   1.25665021  -4.92282125  -0.77247792 -30.17203352\n",
      "  -0.73549883 -30.17914547  -0.47532422 -30.17203352  -0.23766211\n",
      "  -0.09372388  -0.07503282   6.05332292]\n",
      "线性模型的截距 (Intercept): 29.216787898362917\n"
     ]
    }
   ],
   "source": [
    "from sklearn.linear_model import LinearRegression\n",
    "linear_model = LinearRegression()\n",
    "columns = df.columns.tolist()  # 转换为列表\n",
    "if 'Revenue' in columns:\n",
    "    columns.remove('Revenue')  # 移除 'Revenue'\n",
    "X = df[columns]\n",
    "y = df['Revenue']\n",
    "linear_model.fit(X, y)\n",
    "# 打印模型的系数和截距\n",
    "print(\"线性模型的系数 (Coefficients):\", linear_model.coef_)\n",
    "print(\"线性模型的截距 (Intercept):\", linear_model.intercept_)"
   ]
  },
  {
   "cell_type": "code",
   "execution_count": 10,
   "id": "79b4a0d59434e269",
   "metadata": {
    "ExecuteTime": {
     "end_time": "2024-09-08T09:00:49.961264Z",
     "start_time": "2024-09-08T09:00:49.955720Z"
    }
   },
   "outputs": [
    {
     "name": "stdout",
     "output_type": "stream",
     "text": [
      "列名：$x_1$，系数：0.8060847916666671\n",
      "列名：$x_2$，系数：1.256650208333332\n",
      "列名：$x_p$，系数：-4.922821250000002\n",
      "列名：$x_d$，系数：-0.7724779166666575\n",
      "列名：c1_defect_rate，系数：-30.17203351561655\n",
      "列名：c1_inspection_cost，系数：-0.7354988296128455\n",
      "列名：c2_defect_rate，系数：-30.179145468766997\n",
      "列名：c2_inspection_cost，系数：-0.4753242181548911\n",
      "列名：p_defect_rate，系数：-30.172033515616455\n",
      "列名：p_inspection_cost，系数：-0.23766210907736024\n",
      "列名：p_replacement_loss，系数：-0.09372388020833311\n",
      "列名：p_disassembly_cost，系数：-0.07503282440476178\n",
      "列名：$x_p x_d$，系数：6.053322916666662\n"
     ]
    }
   ],
   "source": [
    "for i in range(len(columns)):\n",
    "    print(f'列名：{columns[i]}，系数：{linear_model.coef_[i]}')"
   ]
  },
  {
   "cell_type": "code",
   "execution_count": 10,
   "id": "278cf500ecde7013",
   "metadata": {
    "ExecuteTime": {
     "end_time": "2024-09-08T09:00:49.965915Z",
     "start_time": "2024-09-08T09:00:49.962316Z"
    }
   },
   "outputs": [],
   "source": []
  }
 ],
 "metadata": {
  "kernelspec": {
   "display_name": "Python 3",
   "language": "python",
   "name": "python3"
  },
  "language_info": {
   "codemirror_mode": {
    "name": "ipython",
    "version": 2
   },
   "file_extension": ".py",
   "mimetype": "text/x-python",
   "name": "python",
   "nbconvert_exporter": "python",
   "pygments_lexer": "ipython2",
   "version": "2.7.6"
  }
 },
 "nbformat": 4,
 "nbformat_minor": 5
}
